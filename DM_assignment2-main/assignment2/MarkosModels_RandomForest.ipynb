{
 "cells": [
  {
   "cell_type": "code",
   "execution_count": 1,
   "metadata": {},
   "outputs": [],
   "source": [
    "import pandas as pd\n",
    "import numpy as np\n",
    "import re\n",
    "import nltk\n",
    "from nltk.corpus import stopwords\n",
    "import string"
   ]
  },
  {
   "cell_type": "code",
   "execution_count": 2,
   "metadata": {},
   "outputs": [
    {
     "data": {
      "text/html": [
       "<div>\n",
       "<style scoped>\n",
       "    .dataframe tbody tr th:only-of-type {\n",
       "        vertical-align: middle;\n",
       "    }\n",
       "\n",
       "    .dataframe tbody tr th {\n",
       "        vertical-align: top;\n",
       "    }\n",
       "\n",
       "    .dataframe thead th {\n",
       "        text-align: right;\n",
       "    }\n",
       "</style>\n",
       "<table border=\"1\" class=\"dataframe\">\n",
       "  <thead>\n",
       "    <tr style=\"text-align: right;\">\n",
       "      <th></th>\n",
       "      <th>Review</th>\n",
       "      <th>Fake</th>\n",
       "    </tr>\n",
       "  </thead>\n",
       "  <tbody>\n",
       "    <tr>\n",
       "      <th>0</th>\n",
       "      <td>We stayed at the Schicago Hilton for 4 days an...</td>\n",
       "      <td>1</td>\n",
       "    </tr>\n",
       "    <tr>\n",
       "      <th>1</th>\n",
       "      <td>My $200 Gucci sunglasses were stolen out of my...</td>\n",
       "      <td>0</td>\n",
       "    </tr>\n",
       "    <tr>\n",
       "      <th>2</th>\n",
       "      <td>Hotel is located 1/2 mile from the train stati...</td>\n",
       "      <td>1</td>\n",
       "    </tr>\n",
       "  </tbody>\n",
       "</table>\n",
       "</div>"
      ],
      "text/plain": [
       "                                              Review  Fake\n",
       "0  We stayed at the Schicago Hilton for 4 days an...     1\n",
       "1  My $200 Gucci sunglasses were stolen out of my...     0\n",
       "2  Hotel is located 1/2 mile from the train stati...     1"
      ]
     },
     "execution_count": 2,
     "metadata": {},
     "output_type": "execute_result"
    }
   ],
   "source": [
    "#Reading the 5 csv files, each one containts 160 reviews - 80 Real with label 0 and 80 false with label 1\n",
    "fold1 = pd.read_csv(\"fold1.csv\")\n",
    "fold2 = pd.read_csv(\"fold2.csv\")\n",
    "fold3 = pd.read_csv(\"fold3.csv\")\n",
    "fold4 = pd.read_csv(\"fold4.csv\")\n",
    "fold5 = pd.read_csv(\"fold5.csv\")\n",
    "\n",
    "fold1.head(3)\n",
    "\n",
    "#create a combined dataset for analysis\n",
    "train_df = pd.concat([fold1,fold2,fold3,fold4], ignore_index=True)\n",
    "whole_df = pd.concat([fold1,fold2,fold3,fold4,fold5], ignore_index=True)\n",
    "whole_df.head(3)"
   ]
  },
  {
   "cell_type": "code",
   "execution_count": 3,
   "metadata": {},
   "outputs": [],
   "source": [
    "#LOWERCASE\n",
    "def custom_lowercase(text):\n",
    "    \"\"\"custom function to lowercase the words that only their first character is capital\"\"\"\n",
    "    new_text = \"\"\n",
    "    for word in str(text).split():\n",
    "        if len(word)>1:\n",
    "            if word[0].isupper() and word[1].islower():\n",
    "                word = word[0].lower() + word[1:]\n",
    "                new_text = new_text +\" \"+ word\n",
    "            else:\n",
    "                new_text = new_text +\" \"+ word\n",
    "        elif word[0].isupper():\n",
    "                word = word[0].lower() \n",
    "                new_text = new_text +\" \"+ word\n",
    "        else:\n",
    "            new_text = new_text +\" \"+ word\n",
    "    return new_text\n",
    "\n",
    "whole_df[\"Review\"] = whole_df[\"Review\"].apply(lambda text: custom_lowercase(text))"
   ]
  },
  {
   "cell_type": "code",
   "execution_count": 4,
   "metadata": {},
   "outputs": [],
   "source": [
    "#CONTRACTIONS\n",
    "import contractions\n",
    "whole_df[\"Review\"] = whole_df[\"Review\"].apply(lambda x: contractions.fix(x))"
   ]
  },
  {
   "cell_type": "code",
   "execution_count": 5,
   "metadata": {},
   "outputs": [],
   "source": [
    "#REMOVE PUNCTUATION\n",
    "#the \"0\" index of the list is \"!\" so we skip it\n",
    "punctuation_list = string.punctuation[1:]\n",
    "def remove_punctuation(text):\n",
    "    return text.translate(str.maketrans('', '', punctuation_list))\n",
    "\n",
    "whole_df[\"Review\"] = whole_df[\"Review\"].apply(lambda text: remove_punctuation(text))"
   ]
  },
  {
   "cell_type": "code",
   "execution_count": 6,
   "metadata": {},
   "outputs": [],
   "source": [
    "#REMOVE STOPWORDS\n",
    "# nltk.download('stopwords')\n",
    "STOPWORDS = set(stopwords.words('english'))\n",
    "def remove_stopwords(text):\n",
    "    return \" \".join([word for word in str(text).split() if word not in STOPWORDS])\n",
    "whole_df[\"Review\"] = whole_df[\"Review\"].apply(lambda text: remove_stopwords(text))"
   ]
  },
  {
   "cell_type": "code",
   "execution_count": 7,
   "metadata": {},
   "outputs": [],
   "source": [
    "#REMOVE FREQUENT WORDS\n",
    "from collections import Counter\n",
    "\n",
    "#seperate the dataframes\n",
    "fake_df = whole_df.loc[whole_df['Fake'] == 1]\n",
    "real_df = whole_df.loc[whole_df['Fake'] == 0]\n",
    "\n",
    "def counts(df):\n",
    "    cnt = Counter()\n",
    "    for text in df[\"Review\"].values:\n",
    "        for word in text.split():\n",
    "            cnt[word] += 1\n",
    "    return cnt\n",
    "\n",
    "fake_cnts = counts(fake_df)\n",
    "real_cnts = counts(real_df)\n",
    "        \n",
    "def get_list(lis):\n",
    "    words = []\n",
    "    for pair in lis:\n",
    "        words.append(pair[0])\n",
    "    return words\n",
    "\n",
    "fake_common = get_list(fake_cnts.most_common(20))\n",
    "real_common = get_list(real_cnts.most_common(20))\n",
    "freq_to_remove = list(set(fake_common).intersection(real_common))\n",
    "\n",
    "def remove_freq(text, freq):\n",
    "    \"\"\"custom function to remove freq words\"\"\"\n",
    "    return \" \".join([word for word in str(text).split() if word not in freq])\n",
    "\n",
    "whole_df[\"Review\"] = whole_df[\"Review\"].apply(lambda text: remove_freq(text,freq_to_remove))"
   ]
  },
  {
   "cell_type": "code",
   "execution_count": 8,
   "metadata": {},
   "outputs": [],
   "source": [
    "#LEMMATIZATION\n",
    "\n",
    "from nltk.stem import WordNetLemmatizer\n",
    "from nltk.corpus import wordnet\n",
    "# nltk.download('averaged_perceptron_tagger')\n",
    "# nltk.download('wordnet')\n",
    "\n",
    "lemmatizer = WordNetLemmatizer()\n",
    "wordnet_map = {\"N\":wordnet.NOUN, \"V\":wordnet.VERB, \"J\":wordnet.ADJ, \"R\":wordnet.ADV}\n",
    "def lemmatize_words(text):\n",
    "    pos_tagged_text = nltk.pos_tag(text.split())\n",
    "    return \" \".join([lemmatizer.lemmatize(word, wordnet_map.get(pos[0], wordnet.NOUN)) for word, pos in pos_tagged_text])\n",
    "\n",
    "whole_df[\"Review\"] = whole_df[\"Review\"].apply(lambda text: lemmatize_words(text))"
   ]
  },
  {
   "cell_type": "code",
   "execution_count": 8,
   "metadata": {},
   "outputs": [],
   "source": [
    "#STEMMING\n",
    "from nltk.stem.porter import PorterStemmer\n",
    "\n",
    "stemmer = PorterStemmer()\n",
    "def stem_words(text):\n",
    "    return \" \".join([stemmer.stem(word) for word in text.split()])\n",
    "\n",
    "whole_df[\"Review\"] = whole_df[\"Review\"].apply(lambda text: stem_words(text))"
   ]
  },
  {
   "cell_type": "code",
   "execution_count": 9,
   "metadata": {},
   "outputs": [
    {
     "name": "stdout",
     "output_type": "stream",
     "text": [
      "Fitting 3 folds for each of 270 candidates, totalling 810 fits\n"
     ]
    },
    {
     "name": "stderr",
     "output_type": "stream",
     "text": [
      "[Parallel(n_jobs=-1)]: Using backend LokyBackend with 12 concurrent workers.\n",
      "[Parallel(n_jobs=-1)]: Done  17 tasks      | elapsed:    7.9s\n",
      "[Parallel(n_jobs=-1)]: Done 138 tasks      | elapsed:  1.3min\n",
      "[Parallel(n_jobs=-1)]: Done 341 tasks      | elapsed:  3.3min\n",
      "[Parallel(n_jobs=-1)]: Done 624 tasks      | elapsed:  6.1min\n",
      "[Parallel(n_jobs=-1)]: Done 810 out of 810 | elapsed:  7.9min finished\n"
     ]
    },
    {
     "name": "stdout",
     "output_type": "stream",
     "text": [
      "RandomForestClassifier(max_depth=70, min_samples_leaf=4, min_samples_split=10,\n",
      "                       n_estimators=1000)\n",
      "[[72  8]\n",
      " [18 62]]\n",
      "              precision    recall  f1-score   support\n",
      "\n",
      "           0       0.80      0.90      0.85        80\n",
      "           1       0.89      0.78      0.83        80\n",
      "\n",
      "    accuracy                           0.84       160\n",
      "   macro avg       0.84      0.84      0.84       160\n",
      "weighted avg       0.84      0.84      0.84       160\n",
      "\n",
      "0.8375\n"
     ]
    }
   ],
   "source": [
    "from sklearn import tree\n",
    "from sklearn.model_selection import train_test_split\n",
    "from sklearn.feature_extraction.text import TfidfVectorizer\n",
    "from sklearn.metrics import classification_report, confusion_matrix, accuracy_score\n",
    "from sklearn.ensemble import RandomForestClassifier\n",
    "from sklearn.model_selection import GridSearchCV\n",
    "\n",
    "X = whole_df['Review']\n",
    "Y = whole_df['Fake']\n",
    "\n",
    "uni_vector = TfidfVectorizer(lowercase=False, ngram_range=(1, 1))\n",
    "X = uni_vector.fit_transform(X).toarray()\n",
    "\n",
    "X_train, X_test, y_train, y_test = train_test_split(X, Y, test_size=0.2, shuffle = False)\n",
    "\n",
    "ran_tree = RandomForestClassifier()\n",
    "params = {'max_depth': [50, 60, 70, 80, 90, 100],\n",
    "          'min_samples_leaf': [3, 4, 5],\n",
    "          'min_samples_split': [8, 10, 12],\n",
    "          'n_estimators': [100, 200, 300, 1000, 2000]}\n",
    "\n",
    "clf_GS = GridSearchCV(ran_tree, params, cv = 3, n_jobs = -1, verbose = 2)\n",
    "clf_GS.fit(X_train, y_train)\n",
    "\n",
    "print(clf_GS.best_estimator_)\n",
    "\n",
    "y_pred = clf_GS.predict(X_test)\n",
    "\n",
    "print(confusion_matrix(y_test,y_pred))\n",
    "print(classification_report(y_test,y_pred))\n",
    "print(accuracy_score(y_test, y_pred))"
   ]
  },
  {
   "cell_type": "code",
   "execution_count": 10,
   "metadata": {},
   "outputs": [
    {
     "name": "stdout",
     "output_type": "stream",
     "text": [
      "Fitting 3 folds for each of 270 candidates, totalling 810 fits\n"
     ]
    },
    {
     "name": "stderr",
     "output_type": "stream",
     "text": [
      "[Parallel(n_jobs=-1)]: Using backend LokyBackend with 12 concurrent workers.\n",
      "[Parallel(n_jobs=-1)]: Done  17 tasks      | elapsed:   23.0s\n",
      "[Parallel(n_jobs=-1)]: Done 138 tasks      | elapsed:  4.0min\n",
      "[Parallel(n_jobs=-1)]: Done 341 tasks      | elapsed: 10.3min\n",
      "[Parallel(n_jobs=-1)]: Done 624 tasks      | elapsed: 18.5min\n",
      "[Parallel(n_jobs=-1)]: Done 810 out of 810 | elapsed: 23.9min finished\n"
     ]
    },
    {
     "name": "stdout",
     "output_type": "stream",
     "text": [
      "RandomForestClassifier(max_depth=90, min_samples_leaf=3, min_samples_split=8,\n",
      "                       n_estimators=2000)\n",
      "[[71  9]\n",
      " [19 61]]\n",
      "              precision    recall  f1-score   support\n",
      "\n",
      "           0       0.79      0.89      0.84        80\n",
      "           1       0.87      0.76      0.81        80\n",
      "\n",
      "    accuracy                           0.82       160\n",
      "   macro avg       0.83      0.82      0.82       160\n",
      "weighted avg       0.83      0.82      0.82       160\n",
      "\n",
      "0.825\n"
     ]
    }
   ],
   "source": [
    "X = whole_df['Review']\n",
    "Y = whole_df['Fake']\n",
    "\n",
    "bi_vector = TfidfVectorizer(lowercase=False, ngram_range=(1, 2))\n",
    "X = bi_vector.fit_transform(X).toarray()\n",
    "\n",
    "X_train, X_test, y_train, y_test = train_test_split(X, Y, test_size=0.2, shuffle = False)\n",
    "\n",
    "ran_tree = RandomForestClassifier()\n",
    "params = {'max_depth': [50, 60, 70, 80, 90, 100],\n",
    "          'min_samples_leaf': [3, 4, 5],\n",
    "          'min_samples_split': [8, 10, 12],\n",
    "          'n_estimators': [100, 200, 300, 1000, 2000]}\n",
    "\n",
    "clf_GS = GridSearchCV(ran_tree, params, cv = 3, n_jobs = -1, verbose = 2)\n",
    "clf_GS.fit(X_train, y_train)\n",
    "\n",
    "print(clf_GS.best_estimator_)\n",
    "\n",
    "y_pred = clf_GS.predict(X_test)\n",
    "\n",
    "print(confusion_matrix(y_test,y_pred))\n",
    "print(classification_report(y_test,y_pred))\n",
    "print(accuracy_score(y_test, y_pred))"
   ]
  },
  {
   "cell_type": "code",
   "execution_count": null,
   "metadata": {},
   "outputs": [],
   "source": []
  }
 ],
 "metadata": {
  "kernelspec": {
   "display_name": "Python 3",
   "language": "python",
   "name": "python3"
  },
  "language_info": {
   "codemirror_mode": {
    "name": "ipython",
    "version": 3
   },
   "file_extension": ".py",
   "mimetype": "text/x-python",
   "name": "python",
   "nbconvert_exporter": "python",
   "pygments_lexer": "ipython3",
   "version": "3.8.3"
  }
 },
 "nbformat": 4,
 "nbformat_minor": 4
}
